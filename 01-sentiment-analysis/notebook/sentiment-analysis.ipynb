{
 "cells": [
  {
   "cell_type": "markdown",
   "id": "59c8e54f",
   "metadata": {},
   "source": [
    "<h1 align=\"center\">Sentiment Analysis of Music Lyrics Using NLP Techniques</h1>"
   ]
  },
  {
   "cell_type": "markdown",
   "id": "45f0e3ed",
   "metadata": {},
   "source": [
    "## 1. Import Libraries"
   ]
  },
  {
   "cell_type": "code",
   "execution_count": 1,
   "id": "1a9aacb4",
   "metadata": {},
   "outputs": [],
   "source": [
    "import os\n",
    "import numpy as np\n",
    "import pandas as pd\n",
    "\n",
    "import matplotlib.pyplot as plt\n",
    "import seaborn as sns\n",
    "import wordcloud \n",
    "\n",
    "import re\n",
    "import nltk\n",
    "from nltk.corpus import stopwords\n",
    "from nltk.tokenize import word_tokenize\n",
    "from nltk.stem import WordNetLemmatizer\n",
    "from nltk.tokenize import RegexpTokenizer\n",
    "\n",
    "import warnings\n",
    "warnings.filterwarnings('ignore')"
   ]
  },
  {
   "cell_type": "markdown",
   "id": "3212c003",
   "metadata": {},
   "source": [
    "## 2. Load Dataset"
   ]
  },
  {
   "cell_type": "code",
   "execution_count": 2,
   "id": "a75d6d3c",
   "metadata": {},
   "outputs": [],
   "source": [
    "songs_df = pd.read_csv('../datasets/musicoset_metadata/songs.csv', sep='\\t')\n",
    "lyrics_df = pd.read_csv('../datasets/musicoset_songfeatures/lyrics.csv', sep='\\t')"
   ]
  },
  {
   "cell_type": "markdown",
   "id": "4ea7e7b4",
   "metadata": {},
   "source": [
    "## 3. Dataset Preview"
   ]
  },
  {
   "cell_type": "code",
   "execution_count": 3,
   "id": "7bc5b8e1",
   "metadata": {},
   "outputs": [
    {
     "data": {
      "text/html": [
       "<div>\n",
       "<style scoped>\n",
       "    .dataframe tbody tr th:only-of-type {\n",
       "        vertical-align: middle;\n",
       "    }\n",
       "\n",
       "    .dataframe tbody tr th {\n",
       "        vertical-align: top;\n",
       "    }\n",
       "\n",
       "    .dataframe thead th {\n",
       "        text-align: right;\n",
       "    }\n",
       "</style>\n",
       "<table border=\"1\" class=\"dataframe\">\n",
       "  <thead>\n",
       "    <tr style=\"text-align: right;\">\n",
       "      <th></th>\n",
       "      <th>song_id</th>\n",
       "      <th>song_name</th>\n",
       "      <th>billboard</th>\n",
       "      <th>artists</th>\n",
       "      <th>popularity</th>\n",
       "      <th>explicit</th>\n",
       "      <th>song_type</th>\n",
       "    </tr>\n",
       "  </thead>\n",
       "  <tbody>\n",
       "    <tr>\n",
       "      <th>0</th>\n",
       "      <td>3e9HZxeyfWwjeyPAMmWSSQ</td>\n",
       "      <td>thank u, next</td>\n",
       "      <td>('Thank U, Next', 'Ariana Grande')</td>\n",
       "      <td>{'66CXWjxzNUsdJxJ2JdwvnR': 'Ariana Grande'}</td>\n",
       "      <td>86</td>\n",
       "      <td>True</td>\n",
       "      <td>Solo</td>\n",
       "    </tr>\n",
       "    <tr>\n",
       "      <th>1</th>\n",
       "      <td>5p7ujcrUXASCNwRaWNHR1C</td>\n",
       "      <td>Without Me</td>\n",
       "      <td>('Without Me', 'Halsey')</td>\n",
       "      <td>{'26VFTg2z8YR0cCuwLzESi2': 'Halsey'}</td>\n",
       "      <td>87</td>\n",
       "      <td>True</td>\n",
       "      <td>Solo</td>\n",
       "    </tr>\n",
       "    <tr>\n",
       "      <th>2</th>\n",
       "      <td>2xLMifQCjDGFmkHkpNLD9h</td>\n",
       "      <td>SICKO MODE</td>\n",
       "      <td>('Sicko Mode', 'Travis Scott')</td>\n",
       "      <td>{'0Y5tJX1MQlPlqiwlOH1tJY': 'Travis Scott'}</td>\n",
       "      <td>85</td>\n",
       "      <td>True</td>\n",
       "      <td>Solo</td>\n",
       "    </tr>\n",
       "    <tr>\n",
       "      <th>3</th>\n",
       "      <td>3KkXRkHbMCARz0aVfEt68P</td>\n",
       "      <td>Sunflower - Spider-Man: Into the Spider-Verse</td>\n",
       "      <td>('Sunflower (Spider-Man: Into The Spider-Verse...</td>\n",
       "      <td>{'246dkjvS1zLTtiykXe5h60': 'Post Malone', '1zN...</td>\n",
       "      <td>92</td>\n",
       "      <td>False</td>\n",
       "      <td>Collaboration</td>\n",
       "    </tr>\n",
       "    <tr>\n",
       "      <th>4</th>\n",
       "      <td>1rqqCSm0Qe4I9rUvWncaom</td>\n",
       "      <td>High Hopes</td>\n",
       "      <td>('High Hopes', 'Panic! At The Disco')</td>\n",
       "      <td>{'20JZFwl6HVl6yg8a4H3ZqK': 'Panic! At The Disco'}</td>\n",
       "      <td>86</td>\n",
       "      <td>False</td>\n",
       "      <td>Solo</td>\n",
       "    </tr>\n",
       "  </tbody>\n",
       "</table>\n",
       "</div>"
      ],
      "text/plain": [
       "                  song_id                                      song_name  \\\n",
       "0  3e9HZxeyfWwjeyPAMmWSSQ                                  thank u, next   \n",
       "1  5p7ujcrUXASCNwRaWNHR1C                                     Without Me   \n",
       "2  2xLMifQCjDGFmkHkpNLD9h                                     SICKO MODE   \n",
       "3  3KkXRkHbMCARz0aVfEt68P  Sunflower - Spider-Man: Into the Spider-Verse   \n",
       "4  1rqqCSm0Qe4I9rUvWncaom                                     High Hopes   \n",
       "\n",
       "                                           billboard  \\\n",
       "0                 ('Thank U, Next', 'Ariana Grande')   \n",
       "1                           ('Without Me', 'Halsey')   \n",
       "2                     ('Sicko Mode', 'Travis Scott')   \n",
       "3  ('Sunflower (Spider-Man: Into The Spider-Verse...   \n",
       "4              ('High Hopes', 'Panic! At The Disco')   \n",
       "\n",
       "                                             artists  popularity  explicit  \\\n",
       "0        {'66CXWjxzNUsdJxJ2JdwvnR': 'Ariana Grande'}          86      True   \n",
       "1               {'26VFTg2z8YR0cCuwLzESi2': 'Halsey'}          87      True   \n",
       "2         {'0Y5tJX1MQlPlqiwlOH1tJY': 'Travis Scott'}          85      True   \n",
       "3  {'246dkjvS1zLTtiykXe5h60': 'Post Malone', '1zN...          92     False   \n",
       "4  {'20JZFwl6HVl6yg8a4H3ZqK': 'Panic! At The Disco'}          86     False   \n",
       "\n",
       "       song_type  \n",
       "0           Solo  \n",
       "1           Solo  \n",
       "2           Solo  \n",
       "3  Collaboration  \n",
       "4           Solo  "
      ]
     },
     "execution_count": 3,
     "metadata": {},
     "output_type": "execute_result"
    }
   ],
   "source": [
    "songs_df.head()"
   ]
  },
  {
   "cell_type": "code",
   "execution_count": 4,
   "id": "6de71572",
   "metadata": {},
   "outputs": [
    {
     "data": {
      "text/html": [
       "<div>\n",
       "<style scoped>\n",
       "    .dataframe tbody tr th:only-of-type {\n",
       "        vertical-align: middle;\n",
       "    }\n",
       "\n",
       "    .dataframe tbody tr th {\n",
       "        vertical-align: top;\n",
       "    }\n",
       "\n",
       "    .dataframe thead th {\n",
       "        text-align: right;\n",
       "    }\n",
       "</style>\n",
       "<table border=\"1\" class=\"dataframe\">\n",
       "  <thead>\n",
       "    <tr style=\"text-align: right;\">\n",
       "      <th></th>\n",
       "      <th>song_id</th>\n",
       "      <th>lyrics</th>\n",
       "    </tr>\n",
       "  </thead>\n",
       "  <tbody>\n",
       "    <tr>\n",
       "      <th>0</th>\n",
       "      <td>3e9HZxeyfWwjeyPAMmWSSQ</td>\n",
       "      <td>['[Verse 1]\\nThought I\\'d end up with Sean\\nBu...</td>\n",
       "    </tr>\n",
       "    <tr>\n",
       "      <th>1</th>\n",
       "      <td>5p7ujcrUXASCNwRaWNHR1C</td>\n",
       "      <td>[\"[Verse 1]\\nFound you when your heart was bro...</td>\n",
       "    </tr>\n",
       "    <tr>\n",
       "      <th>2</th>\n",
       "      <td>2xLMifQCjDGFmkHkpNLD9h</td>\n",
       "      <td>['[Part I]\\n\\n[Intro: Drake]\\nAstro, yeah\\nSun...</td>\n",
       "    </tr>\n",
       "    <tr>\n",
       "      <th>3</th>\n",
       "      <td>3KkXRkHbMCARz0aVfEt68P</td>\n",
       "      <td>NaN</td>\n",
       "    </tr>\n",
       "    <tr>\n",
       "      <th>4</th>\n",
       "      <td>1rqqCSm0Qe4I9rUvWncaom</td>\n",
       "      <td>[\"[Intro]\\nHigh, high hopes\\n\\n[Chorus]\\nHad t...</td>\n",
       "    </tr>\n",
       "  </tbody>\n",
       "</table>\n",
       "</div>"
      ],
      "text/plain": [
       "                  song_id                                             lyrics\n",
       "0  3e9HZxeyfWwjeyPAMmWSSQ  ['[Verse 1]\\nThought I\\'d end up with Sean\\nBu...\n",
       "1  5p7ujcrUXASCNwRaWNHR1C  [\"[Verse 1]\\nFound you when your heart was bro...\n",
       "2  2xLMifQCjDGFmkHkpNLD9h  ['[Part I]\\n\\n[Intro: Drake]\\nAstro, yeah\\nSun...\n",
       "3  3KkXRkHbMCARz0aVfEt68P                                                NaN\n",
       "4  1rqqCSm0Qe4I9rUvWncaom  [\"[Intro]\\nHigh, high hopes\\n\\n[Chorus]\\nHad t..."
      ]
     },
     "execution_count": 4,
     "metadata": {},
     "output_type": "execute_result"
    }
   ],
   "source": [
    "lyrics_df.head()"
   ]
  },
  {
   "cell_type": "code",
   "execution_count": 5,
   "id": "7afa5a31",
   "metadata": {},
   "outputs": [
    {
     "name": "stdout",
     "output_type": "stream",
     "text": [
      "Shape of songs dataset: (20405, 7)\n",
      "Shape of lyrics dataset: (20404, 2)\n"
     ]
    }
   ],
   "source": [
    "print(f\"Shape of songs dataset: {songs_df.shape}\")\n",
    "print(f\"Shape of lyrics dataset: {lyrics_df.shape}\")"
   ]
  },
  {
   "cell_type": "code",
   "execution_count": 6,
   "id": "934f9a91",
   "metadata": {},
   "outputs": [
    {
     "name": "stdout",
     "output_type": "stream",
     "text": [
      "<class 'pandas.core.frame.DataFrame'>\n",
      "RangeIndex: 20405 entries, 0 to 20404\n",
      "Data columns (total 7 columns):\n",
      " #   Column      Non-Null Count  Dtype \n",
      "---  ------      --------------  ----- \n",
      " 0   song_id     20405 non-null  object\n",
      " 1   song_name   20405 non-null  object\n",
      " 2   billboard   20405 non-null  object\n",
      " 3   artists     20405 non-null  object\n",
      " 4   popularity  20405 non-null  int64 \n",
      " 5   explicit    20405 non-null  bool  \n",
      " 6   song_type   20405 non-null  object\n",
      "dtypes: bool(1), int64(1), object(5)\n",
      "memory usage: 976.5+ KB\n"
     ]
    }
   ],
   "source": [
    "songs_df.info()"
   ]
  },
  {
   "cell_type": "code",
   "execution_count": 7,
   "id": "6e373f35",
   "metadata": {},
   "outputs": [
    {
     "name": "stdout",
     "output_type": "stream",
     "text": [
      "<class 'pandas.core.frame.DataFrame'>\n",
      "RangeIndex: 20404 entries, 0 to 20403\n",
      "Data columns (total 2 columns):\n",
      " #   Column   Non-Null Count  Dtype \n",
      "---  ------   --------------  ----- \n",
      " 0   song_id  20404 non-null  object\n",
      " 1   lyrics   19663 non-null  object\n",
      "dtypes: object(2)\n",
      "memory usage: 318.9+ KB\n"
     ]
    }
   ],
   "source": [
    "lyrics_df.info()"
   ]
  },
  {
   "cell_type": "markdown",
   "id": "6ade2668",
   "metadata": {},
   "source": [
    "## 4. Data Wrangling"
   ]
  },
  {
   "cell_type": "markdown",
   "id": "6e10b0e0",
   "metadata": {},
   "source": [
    "### 4.1. Merge songs with lyrics"
   ]
  },
  {
   "cell_type": "code",
   "execution_count": 8,
   "id": "b65b9eef",
   "metadata": {},
   "outputs": [],
   "source": [
    "merged_df = pd.merge(songs_df, lyrics_df, on='song_id')"
   ]
  },
  {
   "cell_type": "code",
   "execution_count": 9,
   "id": "0658c7b6",
   "metadata": {},
   "outputs": [
    {
     "data": {
      "text/plain": [
       "(20404, 8)"
      ]
     },
     "execution_count": 9,
     "metadata": {},
     "output_type": "execute_result"
    }
   ],
   "source": [
    "merged_df.shape"
   ]
  },
  {
   "cell_type": "markdown",
   "id": "0e6c81ca",
   "metadata": {},
   "source": [
    "### 4.2. Drop all musics without lyrics"
   ]
  },
  {
   "cell_type": "code",
   "execution_count": 10,
   "id": "f708e98d",
   "metadata": {},
   "outputs": [],
   "source": [
    "merged_df = merged_df.dropna()"
   ]
  },
  {
   "cell_type": "markdown",
   "id": "e9893ca7",
   "metadata": {},
   "source": [
    "### 4.3. Format artist names"
   ]
  },
  {
   "cell_type": "code",
   "execution_count": 11,
   "id": "7157f09f",
   "metadata": {},
   "outputs": [],
   "source": [
    "def clean_artist(artist):\n",
    "    # Split the string by ':'\n",
    "    parts = artist.split(':')\n",
    "    if len(parts) > 1:\n",
    "        # Take the second part, strip any leading/trailing whitespace, and slice from the second to the second-last character\n",
    "        return parts[1].strip()[1:-2]\n",
    "    else:\n",
    "        # Return the original string if the split did not work as expected\n",
    "        return artist.strip()"
   ]
  },
  {
   "cell_type": "code",
   "execution_count": 12,
   "id": "94fe8359",
   "metadata": {},
   "outputs": [],
   "source": [
    "merged_df['artists'] = merged_df['artists'].apply(clean_artist)"
   ]
  },
  {
   "cell_type": "code",
   "execution_count": 13,
   "id": "721da6d1",
   "metadata": {},
   "outputs": [
    {
     "data": {
      "text/html": [
       "<div>\n",
       "<style scoped>\n",
       "    .dataframe tbody tr th:only-of-type {\n",
       "        vertical-align: middle;\n",
       "    }\n",
       "\n",
       "    .dataframe tbody tr th {\n",
       "        vertical-align: top;\n",
       "    }\n",
       "\n",
       "    .dataframe thead th {\n",
       "        text-align: right;\n",
       "    }\n",
       "</style>\n",
       "<table border=\"1\" class=\"dataframe\">\n",
       "  <thead>\n",
       "    <tr style=\"text-align: right;\">\n",
       "      <th></th>\n",
       "      <th>song_id</th>\n",
       "      <th>song_name</th>\n",
       "      <th>billboard</th>\n",
       "      <th>artists</th>\n",
       "      <th>popularity</th>\n",
       "      <th>explicit</th>\n",
       "      <th>song_type</th>\n",
       "      <th>lyrics</th>\n",
       "    </tr>\n",
       "  </thead>\n",
       "  <tbody>\n",
       "    <tr>\n",
       "      <th>0</th>\n",
       "      <td>3e9HZxeyfWwjeyPAMmWSSQ</td>\n",
       "      <td>thank u, next</td>\n",
       "      <td>('Thank U, Next', 'Ariana Grande')</td>\n",
       "      <td>Ariana Grande</td>\n",
       "      <td>86</td>\n",
       "      <td>True</td>\n",
       "      <td>Solo</td>\n",
       "      <td>['[Verse 1]\\nThought I\\'d end up with Sean\\nBu...</td>\n",
       "    </tr>\n",
       "    <tr>\n",
       "      <th>1</th>\n",
       "      <td>5p7ujcrUXASCNwRaWNHR1C</td>\n",
       "      <td>Without Me</td>\n",
       "      <td>('Without Me', 'Halsey')</td>\n",
       "      <td>Halsey</td>\n",
       "      <td>87</td>\n",
       "      <td>True</td>\n",
       "      <td>Solo</td>\n",
       "      <td>[\"[Verse 1]\\nFound you when your heart was bro...</td>\n",
       "    </tr>\n",
       "    <tr>\n",
       "      <th>2</th>\n",
       "      <td>2xLMifQCjDGFmkHkpNLD9h</td>\n",
       "      <td>SICKO MODE</td>\n",
       "      <td>('Sicko Mode', 'Travis Scott')</td>\n",
       "      <td>Travis Scott</td>\n",
       "      <td>85</td>\n",
       "      <td>True</td>\n",
       "      <td>Solo</td>\n",
       "      <td>['[Part I]\\n\\n[Intro: Drake]\\nAstro, yeah\\nSun...</td>\n",
       "    </tr>\n",
       "    <tr>\n",
       "      <th>4</th>\n",
       "      <td>1rqqCSm0Qe4I9rUvWncaom</td>\n",
       "      <td>High Hopes</td>\n",
       "      <td>('High Hopes', 'Panic! At The Disco')</td>\n",
       "      <td>Panic! At The Disco</td>\n",
       "      <td>86</td>\n",
       "      <td>False</td>\n",
       "      <td>Solo</td>\n",
       "      <td>[\"[Intro]\\nHigh, high hopes\\n\\n[Chorus]\\nHad t...</td>\n",
       "    </tr>\n",
       "    <tr>\n",
       "      <th>5</th>\n",
       "      <td>0bYg9bo50gSsH3LtXe2SQn</td>\n",
       "      <td>All I Want for Christmas Is You</td>\n",
       "      <td>('All I Want For Christmas Is You', 'Mariah Ca...</td>\n",
       "      <td>Mariah Carey</td>\n",
       "      <td>63</td>\n",
       "      <td>False</td>\n",
       "      <td>Solo</td>\n",
       "      <td>[\"[Intro]\\nI-I-I don't want a lot for Christma...</td>\n",
       "    </tr>\n",
       "  </tbody>\n",
       "</table>\n",
       "</div>"
      ],
      "text/plain": [
       "                  song_id                        song_name  \\\n",
       "0  3e9HZxeyfWwjeyPAMmWSSQ                    thank u, next   \n",
       "1  5p7ujcrUXASCNwRaWNHR1C                       Without Me   \n",
       "2  2xLMifQCjDGFmkHkpNLD9h                       SICKO MODE   \n",
       "4  1rqqCSm0Qe4I9rUvWncaom                       High Hopes   \n",
       "5  0bYg9bo50gSsH3LtXe2SQn  All I Want for Christmas Is You   \n",
       "\n",
       "                                           billboard              artists  \\\n",
       "0                 ('Thank U, Next', 'Ariana Grande')        Ariana Grande   \n",
       "1                           ('Without Me', 'Halsey')               Halsey   \n",
       "2                     ('Sicko Mode', 'Travis Scott')         Travis Scott   \n",
       "4              ('High Hopes', 'Panic! At The Disco')  Panic! At The Disco   \n",
       "5  ('All I Want For Christmas Is You', 'Mariah Ca...         Mariah Carey   \n",
       "\n",
       "   popularity  explicit song_type  \\\n",
       "0          86      True      Solo   \n",
       "1          87      True      Solo   \n",
       "2          85      True      Solo   \n",
       "4          86     False      Solo   \n",
       "5          63     False      Solo   \n",
       "\n",
       "                                              lyrics  \n",
       "0  ['[Verse 1]\\nThought I\\'d end up with Sean\\nBu...  \n",
       "1  [\"[Verse 1]\\nFound you when your heart was bro...  \n",
       "2  ['[Part I]\\n\\n[Intro: Drake]\\nAstro, yeah\\nSun...  \n",
       "4  [\"[Intro]\\nHigh, high hopes\\n\\n[Chorus]\\nHad t...  \n",
       "5  [\"[Intro]\\nI-I-I don't want a lot for Christma...  "
      ]
     },
     "execution_count": 13,
     "metadata": {},
     "output_type": "execute_result"
    }
   ],
   "source": [
    "merged_df.head()"
   ]
  },
  {
   "cell_type": "markdown",
   "id": "bab61db6",
   "metadata": {},
   "source": [
    "### 4.4. Format song lyrics"
   ]
  },
  {
   "cell_type": "code",
   "execution_count": 14,
   "id": "59dfebad",
   "metadata": {},
   "outputs": [
    {
     "data": {
      "text/plain": [
       "'[\\'[Verse 1]\\\\nThought I\\\\\\'d end up with Sean\\\\nBut he wasn\\\\\\'t a match\\\\nWrote some songs about Ricky\\\\nNow I listen and laugh\\\\nEven almost got married\\\\nAnd for Pete, I\\\\\\'m so thankful\\\\nWish I could say, \"Thank you\" to Malcolm\\\\n\\\\\\'Cause he was an angel\\\\n\\\\n[Pre-Chorus]\\\\nOne taught me love\\\\nOne taught me patience\\\\nAnd one taught me pain\\\\nNow, I\\\\\\'m so amazing\\\\nSay I\\\\\\'ve loved and I\\\\\\'ve lost\\\\nBut that\\\\\\'s not what I see\\\\nSo, look what I got\\\\nLook what you taught me\\\\nAnd for that, I say\\\\n\\\\n[Chorus]\\\\nThank you, next (Next)\\\\nThank you, next (Next)\\\\nThank you, next\\\\nI\\\\\\'m so fuckin\\\\\\' grateful for my ex\\\\nThank you, next (Next)\\\\nThank you, next (Next)\\\\nThank you, next (Next)\\\\nI\\\\\\'m so fuckin\\\\\\'—\\\\n\\\\n[Verse 2]\\\\nSpend more time with my friends\\\\nI ain\\\\\\'t worried \\\\\\'bout nothin\\\\\\'\\\\nPlus, I met someone else\\\\nWe havin\\\\\\' better discussions\\\\nI know they say I move on too fast\\\\nBut this one gon\\\\\\' last\\\\n\\\\\\'Cause her name is Ari\\\\nAnd I\\\\\\'m so good with that (So good with that)\\\\n\\\\n[Pre-Chorus]\\\\nShe taught me love (Love)\\\\nShe taught me patience (Patience)\\\\nHow she handles pain (Pain)\\\\nThat shit\\\\\\'s amazing (Yeah, she\\\\\\'s amazing)\\\\nI\\\\\\'ve loved and I\\\\\\'ve lost (Yeah, yeah)\\\\nBut that\\\\\\'s not what I see (Yeah, yeah)\\\\n\\\\\\'Cause look what I\\\\\\'ve found (Yeah, yeah)\\\\nAin\\\\\\'t no need for searching, and for that, I say\\\\n\\\\n[Chorus]\\\\nThank you, next (Thank you, next)\\\\nThank you, next (Thank you, next)\\\\nThank you, next (Thank you)\\\\nI\\\\\\'m so fuckin\\\\\\' grateful for my ex\\\\nThank you, next (Thank you, next)\\\\nThank you, next (Said thank you, next)\\\\nThank you, next (Next)\\\\nI\\\\\\'m so fuckin\\\\\\' grateful for my ex\\\\n\\\\n[Post-Chorus]\\\\nThank you, next\\\\nThank you, next\\\\nThank you, next\\\\nI\\\\\\'m so fuckin\\\\\\'—\\\\n\\\\n[Bridge]\\\\nOne day I\\\\\\'ll walk down the aisle\\\\nHolding hands with my mama\\\\nI\\\\\\'ll be thanking my dad\\\\n\\\\\\'Cause she grew from the drama\\\\nOnly wanna do it once, real bad\\\\nGon\\\\\\' make that shit last\\\\nGod forbid something happens\\\\nLeast this song is a smash (Song is a smash)\\\\n\\\\n[Pre-Chorus]\\\\nI\\\\\\'ve got so much love (Love)\\\\nGot so much patience (Patience)\\\\nI\\\\\\'ve learned from the pain (Pain)\\\\nI turned out amazing (Turned out amazing)\\\\nSay I\\\\\\'ve loved and I\\\\\\'ve lost (Yeah, yeah)\\\\nBut that\\\\\\'s not what I see (Yeah, yeah)\\\\n\\\\\\'Cause look what I\\\\\\'ve found (Yeah, yeah)\\\\nAin\\\\\\'t no need for searching\\\\nAnd for that, I say\\\\n\\\\n[Chorus]\\\\nThank you, next (Thank you, next)\\\\nThank you, next (Thank you, next)\\\\nThank you, next\\\\nI\\\\\\'m so fuckin\\\\\\' grateful for my ex\\\\nThank you, next (Thank you, next)\\\\nThank you, next (Said thank you, next)\\\\nThank you, next (Next)\\\\nI\\\\\\'m so fuckin\\\\\\' grateful for my ex\\\\n\\\\n[Post-Chorus]\\\\nThank you, next\\\\nThank you, next\\\\nThank you, next\\\\nYeah, yee\\\\nThank you, next\\\\nThank you, next\\\\nThank you, next\\\\nYeah, yee\\']'"
      ]
     },
     "execution_count": 14,
     "metadata": {},
     "output_type": "execute_result"
    }
   ],
   "source": [
    "merged_df['lyrics'].values[0]"
   ]
  },
  {
   "cell_type": "code",
   "execution_count": 15,
   "id": "9eb869e3",
   "metadata": {},
   "outputs": [
    {
     "name": "stdout",
     "output_type": "stream",
     "text": [
      "['i', 'me', 'my', 'myself', 'we', 'our', 'ours', 'ourselves', 'you', \"you're\", \"you've\", \"you'll\", \"you'd\", 'your', 'yours', 'yourself', 'yourselves', 'he', 'him', 'his', 'himself', 'she', \"she's\", 'her', 'hers', 'herself', 'it', \"it's\", 'its', 'itself', 'they', 'them', 'their', 'theirs', 'themselves', 'what', 'which', 'who', 'whom', 'this', 'that', \"that'll\", 'these', 'those', 'am', 'is', 'are', 'was', 'were', 'be', 'been', 'being', 'have', 'has', 'had', 'having', 'do', 'does', 'did', 'doing', 'a', 'an', 'the', 'and', 'but', 'if', 'or', 'because', 'as', 'until', 'while', 'of', 'at', 'by', 'for', 'with', 'about', 'against', 'between', 'into', 'through', 'during', 'before', 'after', 'above', 'below', 'to', 'from', 'up', 'down', 'in', 'out', 'on', 'off', 'over', 'under', 'again', 'further', 'then', 'once', 'here', 'there', 'when', 'where', 'why', 'how', 'all', 'any', 'both', 'each', 'few', 'more', 'most', 'other', 'some', 'such', 'no', 'nor', 'not', 'only', 'own', 'same', 'so', 'than', 'too', 'very', 's', 't', 'can', 'will', 'just', 'don', \"don't\", 'should', \"should've\", 'now', 'd', 'll', 'm', 'o', 're', 've', 'y', 'ain', 'aren', \"aren't\", 'couldn', \"couldn't\", 'didn', \"didn't\", 'doesn', \"doesn't\", 'hadn', \"hadn't\", 'hasn', \"hasn't\", 'haven', \"haven't\", 'isn', \"isn't\", 'ma', 'mightn', \"mightn't\", 'mustn', \"mustn't\", 'needn', \"needn't\", 'shan', \"shan't\", 'shouldn', \"shouldn't\", 'wasn', \"wasn't\", 'weren', \"weren't\", 'won', \"won't\", 'wouldn', \"wouldn't\"]\n"
     ]
    }
   ],
   "source": [
    "stop_words = stopwords.words('english')\n",
    "\n",
    "print(stop_words)"
   ]
  },
  {
   "cell_type": "code",
   "execution_count": 16,
   "id": "df2ff228",
   "metadata": {},
   "outputs": [],
   "source": [
    "# Extend stopwords\n",
    "stop_words.extend([\n",
    "    'verse', 'chorus', 'i\"ll', 'intro', 'outro', 'or', 'm', 'ma', 'ours', 'against', 'nor',\n",
    "    'wasn', 'hasn', 'my', 'had', 'didn', 'isn', 'did', 'aren', 'those', 'than', \n",
    "    \"mustn't\", \"you've\", 'to', 'she', 'having', \"haven't\", 'into', 't', 'll', \n",
    "    'himself', 'do', \"that'll\", 'so', 'of', 'on', 'very', 'for', 'out', 'were', \n",
    "    'should', 'they', 'ain', \"should've\", 'you', \"didn't\", 'yours', 'was', 'our',\n",
    "     'can', 'myself', \"shouldn't\", 'have', 'up', 'mightn', \"you'll\", 'any', \n",
    "    'itself', 'hadn', 'him', 'doesn', 'weren', 'y', 'being', \"don't\", 'them', \n",
    "    'are','and', 'that', 'your', 'yourself', 'their', 'some', 'ourselves', 've', \n",
    "    'doing', 'been', 'shouldn', 'yourselves', \"mightn't\", 'most', 'because',\n",
    "     'few', 'wouldn', \"you'd\", 'through', \"you're\", 'themselves', 'an', 'if',\n",
    "     \"wouldn't\", 'its', 'other', \"won't\", \"wasn't\", \"she's\", 'we', 'shan',\n",
    "     \"weren't\",'don',\"hadn't\", 'this', 'off', 'while', 'a', 'haven', 'her', \n",
    "    'theirs', 'all', \"hasn't\", \"doesn't\", 'about', 'then', 'by','such', 'but', \n",
    "    'until', 'each', 'there', \"aren't\", 'with', 'not', \"shan't\", 'hers', 'it', \n",
    "    'too', 'i', 'at', 'is', 'as', 'me', 'herself', 's', 'the', 'where', 'am', \n",
    "    'has', 'over', \"couldn't\", 'when', 'does', 'mustn','re', 'no', 'in', 'who', \n",
    "    'd', 'own', 'he', 'be', \"isn't\", 'his', 'these', 'same', 'whom', 'will', \n",
    "    'needn','couldn', 'from',  \"it's\", 'o',\n",
    "])\n",
    "\n",
    "stop_words = set(stop_words)"
   ]
  },
  {
   "cell_type": "code",
   "execution_count": 17,
   "id": "4e904aba",
   "metadata": {},
   "outputs": [],
   "source": [
    "# Pre-compile the regex pattern for removing escaped new line characters\n",
    "newline_pattern = re.compile(r'\\\\n')\n",
    "\n",
    "# Initialize the lemmatizer and stop words once\n",
    "lemmatizer = WordNetLemmatizer()\n",
    "# stop_words = set(stopwords.words('english'))\n",
    "\n",
    "def preprocess_lyrics(lyrics):\n",
    "    # Remove escaped new line character\n",
    "    lyrics = newline_pattern.sub('', lyrics)\n",
    "    \n",
    "    # Tokenization\n",
    "    tokens = word_tokenize(lyrics)\n",
    "    \n",
    "    # Process tokens: remove punctuation, convert to lowercase, remove stopwords, and lemmatize\n",
    "    processed_tokens = [\n",
    "        lemmatizer.lemmatize(word.lower())\n",
    "        for word in tokens if word.isalnum() and word.lower() not in stop_words\n",
    "    ]\n",
    "    \n",
    "    return ' '.join(processed_tokens)"
   ]
  },
  {
   "cell_type": "code",
   "execution_count": 18,
   "id": "67fcc8f9",
   "metadata": {},
   "outputs": [],
   "source": [
    "merged_df['cleaned_lyrics'] = merged_df['lyrics'].apply(preprocess_lyrics)"
   ]
  },
  {
   "cell_type": "code",
   "execution_count": 19,
   "id": "c6966070",
   "metadata": {},
   "outputs": [
    {
     "data": {
      "text/plain": [
       "0        1 thought end seanbut matchwrote song rickynow...\n",
       "1        1 found heart brokei filled cup overflowedtook...\n",
       "2        part drake astro yeahsun already know heremy d...\n",
       "4        high high hope high high hope livingshooting s...\n",
       "5        want lot christmasthere one thing needi care p...\n",
       "                               ...                        \n",
       "20398    ten little indiansstanding lineone stood looki...\n",
       "20399    surein world constantly changing surewhere sta...\n",
       "20400    1 billy wood used clown kid likescared money m...\n",
       "20401    well better run run saysomebody calling youyou...\n",
       "20402    round 1 saurus people salty thinking battle in...\n",
       "Name: cleaned_lyrics, Length: 19663, dtype: object"
      ]
     },
     "execution_count": 19,
     "metadata": {},
     "output_type": "execute_result"
    }
   ],
   "source": [
    "merged_df['cleaned_lyrics']"
   ]
  }
 ],
 "metadata": {
  "kernelspec": {
   "display_name": "Python 3 (ipykernel)",
   "language": "python",
   "name": "python3"
  },
  "language_info": {
   "codemirror_mode": {
    "name": "ipython",
    "version": 3
   },
   "file_extension": ".py",
   "mimetype": "text/x-python",
   "name": "python",
   "nbconvert_exporter": "python",
   "pygments_lexer": "ipython3",
   "version": "3.9.5"
  },
  "varInspector": {
   "cols": {
    "lenName": 16,
    "lenType": 16,
    "lenVar": 40
   },
   "kernels_config": {
    "python": {
     "delete_cmd_postfix": "",
     "delete_cmd_prefix": "del ",
     "library": "var_list.py",
     "varRefreshCmd": "print(var_dic_list())"
    },
    "r": {
     "delete_cmd_postfix": ") ",
     "delete_cmd_prefix": "rm(",
     "library": "var_list.r",
     "varRefreshCmd": "cat(var_dic_list()) "
    }
   },
   "types_to_exclude": [
    "module",
    "function",
    "builtin_function_or_method",
    "instance",
    "_Feature"
   ],
   "window_display": false
  }
 },
 "nbformat": 4,
 "nbformat_minor": 5
}
